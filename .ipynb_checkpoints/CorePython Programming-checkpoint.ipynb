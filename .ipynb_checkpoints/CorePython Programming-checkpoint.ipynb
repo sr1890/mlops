{
 "cells": [
  {
   "cell_type": "markdown",
   "id": "9947ac60-4311-45aa-869a-a88e48f25e4f",
   "metadata": {},
   "source": [
    "## Variable"
   ]
  },
  {
   "cell_type": "code",
   "execution_count": 6,
   "id": "63f931b5-231e-4bf4-aa85-645e2a26eeb9",
   "metadata": {},
   "outputs": [
    {
     "name": "stdout",
     "output_type": "stream",
     "text": [
      "10\n"
     ]
    }
   ],
   "source": [
    "x = 10\n",
    "print (x)"
   ]
  },
  {
   "cell_type": "markdown",
   "id": "6c3fbe04-79c4-48b5-8d9d-c63872d1eaac",
   "metadata": {
    "editable": true,
    "slideshow": {
     "slide_type": ""
    },
    "tags": []
   },
   "source": [
    "## Literals"
   ]
  },
  {
   "cell_type": "code",
   "execution_count": 16,
   "id": "d409e835-7c64-4c26-b707-de73c8a40b2c",
   "metadata": {},
   "outputs": [
    {
     "name": "stdout",
     "output_type": "stream",
     "text": [
      "<class 'int'>\n",
      "<class 'int'>\n"
     ]
    }
   ],
   "source": [
    "x = 0 \n",
    "y = -20\n",
    "\n",
    "print (type (x))\n",
    "\n",
    "print (type(y))\n"
   ]
  },
  {
   "cell_type": "code",
   "execution_count": 17,
   "id": "55c20e94-9318-418e-bbec-55c97eea2687",
   "metadata": {},
   "outputs": [
    {
     "name": "stdout",
     "output_type": "stream",
     "text": [
      "<class 'bool'>\n"
     ]
    }
   ],
   "source": [
    "x = False\n",
    "y = True\n",
    "\n",
    "print (type(x))"
   ]
  },
  {
   "cell_type": "markdown",
   "id": "f4b1ddf5-7e15-4698-9404-2eabfd8ad9f7",
   "metadata": {},
   "source": [
    "# String"
   ]
  },
  {
   "cell_type": "code",
   "execution_count": 18,
   "id": "177ac699-3c07-48d2-98a6-9432bae5d707",
   "metadata": {},
   "outputs": [],
   "source": [
    "## Collections\n",
    "\n",
    "Python list \n",
    "Python Tuples\n",
    "Pythons dictonary\n"
   ]
  },
  {
   "cell_type": "markdown",
   "id": "6a6caef8-b965-4568-b8e7-cf6772716815",
   "metadata": {},
   "source": [
    "#Arithmetic Operator "
   ]
  },
  {
   "cell_type": "code",
   "execution_count": 23,
   "id": "04d9297e-9fe7-441f-9b27-694818c6c3b5",
   "metadata": {},
   "outputs": [
    {
     "name": "stdout",
     "output_type": "stream",
     "text": [
      "35\n"
     ]
    }
   ],
   "source": [
    "x = 10\n",
    "y = 25\n",
    "print (x+y)"
   ]
  },
  {
   "cell_type": "code",
   "execution_count": 24,
   "id": "c4d5a28c-7ffc-4515-bdea-81c897c1ddc9",
   "metadata": {},
   "outputs": [
    {
     "name": "stdout",
     "output_type": "stream",
     "text": [
      "10000000000000000000000000\n"
     ]
    }
   ],
   "source": [
    "print (x**y)"
   ]
  },
  {
   "cell_type": "code",
   "execution_count": 25,
   "id": "67459bd9-cb68-4ef6-bf9e-98e523208847",
   "metadata": {},
   "outputs": [
    {
     "name": "stdout",
     "output_type": "stream",
     "text": [
      "10\n"
     ]
    }
   ],
   "source": [
    "print (x%y)"
   ]
  },
  {
   "cell_type": "code",
   "execution_count": 26,
   "id": "eeafa1fe-ebc8-43a7-bade-aa5992c8c812",
   "metadata": {},
   "outputs": [
    {
     "name": "stdout",
     "output_type": "stream",
     "text": [
      "5\n"
     ]
    }
   ],
   "source": [
    "print (y%x)"
   ]
  },
  {
   "cell_type": "markdown",
   "id": "06608ae5-5363-47e1-8e08-01a099c3c90d",
   "metadata": {},
   "source": [
    "# Comparision operator"
   ]
  },
  {
   "cell_type": "code",
   "execution_count": 29,
   "id": "5f260d07-4b31-4cc9-ba01-c6b3fc40109f",
   "metadata": {},
   "outputs": [
    {
     "name": "stdout",
     "output_type": "stream",
     "text": [
      "10 25\n"
     ]
    }
   ],
   "source": [
    "x > y\n",
    "print (x , y)"
   ]
  },
  {
   "cell_type": "code",
   "execution_count": 30,
   "id": "8c50fd6c-31da-4d3d-96a7-702d16703b53",
   "metadata": {},
   "outputs": [
    {
     "data": {
      "text/plain": [
       "False"
      ]
     },
     "execution_count": 30,
     "metadata": {},
     "output_type": "execute_result"
    }
   ],
   "source": [
    "x == y "
   ]
  },
  {
   "cell_type": "markdown",
   "id": "74772751-7a96-41d2-8e6a-eda0162de7b5",
   "metadata": {},
   "source": [
    "# Assignment operator\n"
   ]
  },
  {
   "cell_type": "code",
   "execution_count": 32,
   "id": "cbe099ec-8696-43a9-b36e-c6463ce464f9",
   "metadata": {},
   "outputs": [
    {
     "data": {
      "text/plain": [
       "100"
      ]
     },
     "execution_count": 32,
     "metadata": {},
     "output_type": "execute_result"
    }
   ],
   "source": [
    "x = 100\n",
    "x "
   ]
  },
  {
   "cell_type": "code",
   "execution_count": 33,
   "id": "2c55ca4b-09c6-4669-a91b-d8f9a7545372",
   "metadata": {},
   "outputs": [
    {
     "name": "stdout",
     "output_type": "stream",
     "text": [
      "110\n"
     ]
    }
   ],
   "source": [
    "x += 10 # x = x+10\n",
    "print (x)"
   ]
  },
  {
   "cell_type": "code",
   "execution_count": 34,
   "id": "9af8a458-8f99-441a-86c5-c982ec7cc3b2",
   "metadata": {},
   "outputs": [
    {
     "name": "stderr",
     "output_type": "stream",
     "text": [
      "<>:1: SyntaxWarning: \"is\" with a literal. Did you mean \"==\"?\n",
      "<>:1: SyntaxWarning: \"is\" with a literal. Did you mean \"==\"?\n",
      "/tmp/ipykernel_38025/811440014.py:1: SyntaxWarning: \"is\" with a literal. Did you mean \"==\"?\n",
      "  x is 10\n"
     ]
    },
    {
     "data": {
      "text/plain": [
       "False"
      ]
     },
     "execution_count": 34,
     "metadata": {},
     "output_type": "execute_result"
    }
   ],
   "source": [
    "x is 10\n"
   ]
  },
  {
   "cell_type": "code",
   "execution_count": 35,
   "id": "fdf2ae37-c154-48d5-9ca0-53bae0d0b705",
   "metadata": {},
   "outputs": [
    {
     "data": {
      "text/plain": [
       "False"
      ]
     },
     "execution_count": 35,
     "metadata": {},
     "output_type": "execute_result"
    }
   ],
   "source": [
    "x is y "
   ]
  },
  {
   "cell_type": "code",
   "execution_count": 36,
   "id": "5ff49f1d-16db-46d6-bf1e-ca7d73ec13e9",
   "metadata": {},
   "outputs": [
    {
     "data": {
      "text/plain": [
       "True"
      ]
     },
     "execution_count": 36,
     "metadata": {},
     "output_type": "execute_result"
    }
   ],
   "source": [
    "x is not y "
   ]
  },
  {
   "cell_type": "markdown",
   "id": "b060d8d5-6822-4355-9e10-44c7e40228c6",
   "metadata": {},
   "source": [
    "# Collection Objects - String\n",
    "\n",
    "- Concatenation\n",
    "- Repetation\n",
    "- Membership operator\n",
    "- Length\n",
    "- Indexing\n",
    "- "
   ]
  },
  {
   "cell_type": "code",
   "execution_count": 42,
   "id": "9a8b1b45-f3de-4013-97c3-887985e94f43",
   "metadata": {},
   "outputs": [
    {
     "data": {
      "text/plain": [
       "'mlopsproject'"
      ]
     },
     "execution_count": 42,
     "metadata": {},
     "output_type": "execute_result"
    }
   ],
   "source": [
    "x = 'mlops'\n",
    "y = 'project'\n",
    "\n",
    "x+y"
   ]
  },
  {
   "cell_type": "code",
   "execution_count": 43,
   "id": "c0233dc0-76e6-426b-af39-d159692bc340",
   "metadata": {},
   "outputs": [
    {
     "data": {
      "text/plain": [
       "'mlopsmlops'"
      ]
     },
     "execution_count": 43,
     "metadata": {},
     "output_type": "execute_result"
    }
   ],
   "source": [
    "x*2"
   ]
  },
  {
   "cell_type": "code",
   "execution_count": 45,
   "id": "2e0a84c9-b4aa-43d8-aa29-d6ac96a609e5",
   "metadata": {},
   "outputs": [
    {
     "data": {
      "text/plain": [
       "True"
      ]
     },
     "execution_count": 45,
     "metadata": {},
     "output_type": "execute_result"
    }
   ],
   "source": [
    "'mlops' in x "
   ]
  },
  {
   "cell_type": "code",
   "execution_count": 47,
   "id": "832cb1a4-dbbd-40cb-8427-306db0e3ea8b",
   "metadata": {},
   "outputs": [
    {
     "name": "stdout",
     "output_type": "stream",
     "text": [
      "mlops\n"
     ]
    },
    {
     "data": {
      "text/plain": [
       "5"
      ]
     },
     "execution_count": 47,
     "metadata": {},
     "output_type": "execute_result"
    }
   ],
   "source": [
    "print (x)\n",
    "\n",
    "len (x)"
   ]
  },
  {
   "cell_type": "code",
   "execution_count": 52,
   "id": "6a9d1a00-60aa-4e6c-bcf2-04ae03388c32",
   "metadata": {},
   "outputs": [
    {
     "data": {
      "text/plain": [
       "'c'"
      ]
     },
     "execution_count": 52,
     "metadata": {},
     "output_type": "execute_result"
    }
   ],
   "source": [
    "# indexing - fetch elements by referring its position\n",
    "\n",
    "x = \"hello class, welcome to mlops complete bootcamps\"\n",
    "\n",
    "x [1]\n",
    "\n",
    "x [6]\n",
    "\n"
   ]
  },
  {
   "cell_type": "code",
   "execution_count": 53,
   "id": "1e9a26b4-7ac3-4963-9a86-a4fe8b41b46b",
   "metadata": {},
   "outputs": [
    {
     "data": {
      "text/plain": [
       "'ello'"
      ]
     },
     "execution_count": 53,
     "metadata": {},
     "output_type": "execute_result"
    }
   ],
   "source": [
    "# slicing \n",
    "\n",
    "x [1:5]"
   ]
  },
  {
   "cell_type": "markdown",
   "id": "9d015341-84a0-408c-9a3c-fb93e372589f",
   "metadata": {},
   "source": [
    "# Build in Function \n"
   ]
  },
  {
   "cell_type": "code",
   "execution_count": null,
   "id": "67e976ee-4507-4065-9034-da040781aa80",
   "metadata": {},
   "outputs": [],
   "source": [
    "# Single Line \n",
    "\n",
    "x = ' hello worls welcome to mlops 12312'\n",
    "y = \" hello worls mlops\"\n",
    "\n",
    "## Multi line string \n",
    "\n",
    "z = ''' hello world welcome'''\n",
    "w = \"\"\" welcome to mlops class\"\"\"\n"
   ]
  },
  {
   "cell_type": "code",
   "execution_count": 55,
   "id": "afde9b21-974f-4d79-964b-c00c3c639548",
   "metadata": {},
   "outputs": [
    {
     "data": {
      "text/plain": [
       "'Hello class, welcome to mlops complete bootcamps'"
      ]
     },
     "execution_count": 55,
     "metadata": {},
     "output_type": "execute_result"
    }
   ],
   "source": [
    "x.capitalize()"
   ]
  },
  {
   "cell_type": "code",
   "execution_count": 57,
   "id": "e0a998b3-51dd-476e-8d76-ed22cc04bdcf",
   "metadata": {},
   "outputs": [
    {
     "data": {
      "text/plain": [
       "False"
      ]
     },
     "execution_count": 57,
     "metadata": {},
     "output_type": "execute_result"
    }
   ],
   "source": [
    "x.isalnum()"
   ]
  },
  {
   "cell_type": "code",
   "execution_count": 58,
   "id": "95db4ccf-4c4d-4500-a565-fa9a765cf0a2",
   "metadata": {},
   "outputs": [
    {
     "data": {
      "text/plain": [
       "True"
      ]
     },
     "execution_count": 58,
     "metadata": {},
     "output_type": "execute_result"
    }
   ],
   "source": [
    "\"welcome\".isalnum()"
   ]
  },
  {
   "cell_type": "code",
   "execution_count": 59,
   "id": "bb587ab4-46b8-4bf6-ba70-1c97676a96a9",
   "metadata": {},
   "outputs": [
    {
     "data": {
      "text/plain": [
       "'welcome'"
      ]
     },
     "execution_count": 59,
     "metadata": {},
     "output_type": "execute_result"
    }
   ],
   "source": [
    "a = 'WELCOME'\n",
    "a.lower()"
   ]
  },
  {
   "cell_type": "code",
   "execution_count": 61,
   "id": "31433ba2-177e-49e1-883f-51aa44961c19",
   "metadata": {},
   "outputs": [
    {
     "name": "stdout",
     "output_type": "stream",
     "text": [
      "welcome.\n"
     ]
    }
   ],
   "source": [
    "a = \"    welcome.   \"\n",
    "print(a.strip())"
   ]
  },
  {
   "cell_type": "markdown",
   "id": "5f8b44b3-4944-4c30-936d-e01b92f6ee7c",
   "metadata": {},
   "source": [
    "# Data Strucuture "
   ]
  },
  {
   "cell_type": "code",
   "execution_count": 63,
   "id": "d2cfa6fb-3ab2-416b-8c61-2c8398e9cb8f",
   "metadata": {},
   "outputs": [
    {
     "name": "stdout",
     "output_type": "stream",
     "text": [
      "[20, 30, 'hello', 'welcome', 12.55]\n"
     ]
    }
   ],
   "source": [
    "x = [20, 30 , \"hello\", \"welcome\", 12.55]\n",
    "\n",
    "print (x)"
   ]
  },
  {
   "cell_type": "code",
   "execution_count": 64,
   "id": "37efe151-e739-4cc0-b2fd-aa0544c4d58f",
   "metadata": {},
   "outputs": [
    {
     "data": {
      "text/plain": [
       "list"
      ]
     },
     "execution_count": 64,
     "metadata": {},
     "output_type": "execute_result"
    }
   ],
   "source": [
    "type (x)"
   ]
  },
  {
   "cell_type": "code",
   "execution_count": 65,
   "id": "f6c3e540-d503-493a-ba22-c997b4053450",
   "metadata": {},
   "outputs": [
    {
     "name": "stdout",
     "output_type": "stream",
     "text": [
      "<class 'list'>\n"
     ]
    }
   ],
   "source": [
    "print (type(x))"
   ]
  },
  {
   "cell_type": "markdown",
   "id": "2d653320-9d59-431c-a47e-7564f3f4174b",
   "metadata": {},
   "source": [
    "# Operation in list\n"
   ]
  },
  {
   "cell_type": "code",
   "execution_count": 67,
   "id": "0dcc37a3-79ea-4f5e-8895-102e2c53a37a",
   "metadata": {},
   "outputs": [],
   "source": [
    "x = [10,20]\n",
    "y = ['welcome', 'class']"
   ]
  },
  {
   "cell_type": "code",
   "execution_count": 68,
   "id": "ab661ca7-a90d-4623-bc63-6c10fcf8438b",
   "metadata": {},
   "outputs": [
    {
     "data": {
      "text/plain": [
       "[10, 20, 'welcome', 'class']"
      ]
     },
     "execution_count": 68,
     "metadata": {},
     "output_type": "execute_result"
    }
   ],
   "source": [
    "x+y"
   ]
  },
  {
   "cell_type": "code",
   "execution_count": 69,
   "id": "f6a321ad-d8cc-4481-8ba0-4ec2831c7546",
   "metadata": {},
   "outputs": [
    {
     "data": {
      "text/plain": [
       "[10, 20, 10, 20, 10, 20]"
      ]
     },
     "execution_count": 69,
     "metadata": {},
     "output_type": "execute_result"
    }
   ],
   "source": [
    "x*3"
   ]
  },
  {
   "cell_type": "code",
   "execution_count": 70,
   "id": "7da30f27-a655-4e1e-b827-b5222e4c3854",
   "metadata": {},
   "outputs": [
    {
     "data": {
      "text/plain": [
       "True"
      ]
     },
     "execution_count": 70,
     "metadata": {},
     "output_type": "execute_result"
    }
   ],
   "source": [
    "10 in x "
   ]
  },
  {
   "cell_type": "code",
   "execution_count": 73,
   "id": "3a929c16-2e7b-4b23-b6e8-917f61c062a4",
   "metadata": {},
   "outputs": [
    {
     "data": {
      "text/plain": [
       "2"
      ]
     },
     "execution_count": 73,
     "metadata": {},
     "output_type": "execute_result"
    }
   ],
   "source": [
    "len(x) "
   ]
  },
  {
   "cell_type": "code",
   "execution_count": 92,
   "id": "9d31a2cc-16e1-4d08-9a8c-b3f414d01e9b",
   "metadata": {},
   "outputs": [],
   "source": [
    "x = [10, 20, 'hello ', 'welcome', '12.55']"
   ]
  },
  {
   "cell_type": "code",
   "execution_count": 79,
   "id": "d0e4bbb8-7726-41fc-9429-d2fdfd05e855",
   "metadata": {},
   "outputs": [
    {
     "data": {
      "text/plain": [
       "'12.55'"
      ]
     },
     "execution_count": 79,
     "metadata": {},
     "output_type": "execute_result"
    }
   ],
   "source": [
    "x[3]"
   ]
  },
  {
   "cell_type": "code",
   "execution_count": 80,
   "id": "30b18a22-b562-4d1f-8aea-bddf98252a20",
   "metadata": {},
   "outputs": [
    {
     "data": {
      "text/plain": [
       "10"
      ]
     },
     "execution_count": 80,
     "metadata": {},
     "output_type": "execute_result"
    }
   ],
   "source": [
    "x[0]"
   ]
  },
  {
   "cell_type": "code",
   "execution_count": 83,
   "id": "c90cee9f-bea3-4aab-b4fd-52602bf7c564",
   "metadata": {},
   "outputs": [
    {
     "data": {
      "text/plain": [
       "[10, 20, 'hello ', 'welcome']"
      ]
     },
     "execution_count": 83,
     "metadata": {},
     "output_type": "execute_result"
    }
   ],
   "source": [
    "x[0:4]"
   ]
  },
  {
   "cell_type": "code",
   "execution_count": 84,
   "id": "c5e3fc02-5355-4bd3-b589-afbf7c937b98",
   "metadata": {},
   "outputs": [],
   "source": [
    "x[2] = 'mlops'\n"
   ]
  },
  {
   "cell_type": "code",
   "execution_count": 85,
   "id": "8b4232ae-f731-4cc2-97a7-00ce479cbee2",
   "metadata": {},
   "outputs": [
    {
     "data": {
      "text/plain": [
       "[10, 20, 'mlops', 'welcome', '12.55']"
      ]
     },
     "execution_count": 85,
     "metadata": {},
     "output_type": "execute_result"
    }
   ],
   "source": [
    "x"
   ]
  },
  {
   "cell_type": "code",
   "execution_count": 89,
   "id": "828b1475-7aed-4c4f-bd5e-0cdea9cee9f5",
   "metadata": {},
   "outputs": [
    {
     "data": {
      "text/plain": [
       "[10, 20, 'mlops', 'welcome', '12.55', 999, 999, 999]"
      ]
     },
     "execution_count": 89,
     "metadata": {},
     "output_type": "execute_result"
    }
   ],
   "source": [
    "x.append(999)\n",
    "x"
   ]
  },
  {
   "cell_type": "code",
   "execution_count": 93,
   "id": "d00a67a1-3d64-453a-8dc7-00236dba9203",
   "metadata": {},
   "outputs": [
    {
     "data": {
      "text/plain": [
       "[10, 20, 'hello ', 'welcome']"
      ]
     },
     "execution_count": 93,
     "metadata": {},
     "output_type": "execute_result"
    }
   ],
   "source": [
    "x.remove('12.55')\n",
    "x"
   ]
  },
  {
   "cell_type": "markdown",
   "id": "1a48779e-79a5-4d81-817b-d93b7323dae7",
   "metadata": {},
   "source": [
    "# Data Structure -- Tuples \n"
   ]
  },
  {
   "cell_type": "code",
   "execution_count": 94,
   "id": "4c804903-ef07-43d7-a7f1-01dfe655112c",
   "metadata": {},
   "outputs": [],
   "source": [
    "tup = (10, 20, 'welcome', 'mlops', 12.65)"
   ]
  },
  {
   "cell_type": "code",
   "execution_count": 95,
   "id": "c3d5ca7e-c237-4914-abd4-778da8e17d7f",
   "metadata": {},
   "outputs": [],
   "source": [
    "# Immutable "
   ]
  },
  {
   "cell_type": "code",
   "execution_count": 96,
   "id": "8a1bcca9-354a-4d21-b297-ca758dc90aeb",
   "metadata": {},
   "outputs": [
    {
     "data": {
      "text/plain": [
       "(10, 20, 'welcome', 'mlops', 12.65)"
      ]
     },
     "execution_count": 96,
     "metadata": {},
     "output_type": "execute_result"
    }
   ],
   "source": [
    "tup"
   ]
  },
  {
   "cell_type": "code",
   "execution_count": 97,
   "id": "f35df624-c67a-45cc-97db-f228b430f49a",
   "metadata": {},
   "outputs": [
    {
     "data": {
      "text/plain": [
       "(10, 20, 'welcome', 'mlops', 12.65, 10, 20, 'welcome', 'mlops', 12.65)"
      ]
     },
     "execution_count": 97,
     "metadata": {},
     "output_type": "execute_result"
    }
   ],
   "source": [
    "tup + tup "
   ]
  },
  {
   "cell_type": "code",
   "execution_count": 100,
   "id": "05e8245c-361d-4d97-a3b6-f8648a14d9a8",
   "metadata": {},
   "outputs": [
    {
     "data": {
      "text/plain": [
       "('welcome', 'mlops')"
      ]
     },
     "execution_count": 100,
     "metadata": {},
     "output_type": "execute_result"
    }
   ],
   "source": [
    "tup[2:4]"
   ]
  },
  {
   "cell_type": "markdown",
   "id": "d5153108-01e7-4c12-becf-8af37029d190",
   "metadata": {},
   "source": [
    "# Data Structure -- Python Dictionary"
   ]
  },
  {
   "cell_type": "code",
   "execution_count": 103,
   "id": "7c7c33d2-73b4-4a8d-84b9-cb353724f9a5",
   "metadata": {},
   "outputs": [
    {
     "data": {
      "text/plain": [
       "{'number': 9000, 'name': 'john', 'age': 25, 'city': 'banglore'}"
      ]
     },
     "execution_count": 103,
     "metadata": {},
     "output_type": "execute_result"
    }
   ],
   "source": [
    "x = {'number' : 9000, \"name\": \"john\", 'age': 25, 'city': 'banglore'}\n",
    "x"
   ]
  },
  {
   "cell_type": "code",
   "execution_count": 104,
   "id": "3d44ecfe-49e0-462a-977b-58377e3bd202",
   "metadata": {},
   "outputs": [
    {
     "data": {
      "text/plain": [
       "'john'"
      ]
     },
     "execution_count": 104,
     "metadata": {},
     "output_type": "execute_result"
    }
   ],
   "source": [
    "x['name']"
   ]
  },
  {
   "cell_type": "code",
   "execution_count": 107,
   "id": "87d9434d-58bc-4a20-bd4e-8211fd78b2ce",
   "metadata": {},
   "outputs": [
    {
     "data": {
      "text/plain": [
       "{'number': 9000, 'name': 'santosh', 'age': 25, 'city': 'banglore'}"
      ]
     },
     "execution_count": 107,
     "metadata": {},
     "output_type": "execute_result"
    }
   ],
   "source": [
    "x['name'] = \"santosh\"\n",
    "x"
   ]
  },
  {
   "cell_type": "code",
   "execution_count": 108,
   "id": "832ac173-3bf4-4d2c-a7bf-3c89f7592417",
   "metadata": {},
   "outputs": [
    {
     "data": {
      "text/plain": [
       "4"
      ]
     },
     "execution_count": 108,
     "metadata": {},
     "output_type": "execute_result"
    }
   ],
   "source": [
    "len (x)"
   ]
  },
  {
   "cell_type": "code",
   "execution_count": 109,
   "id": "7df96257-70bd-4743-bdf1-5d48c062c6ce",
   "metadata": {},
   "outputs": [
    {
     "data": {
      "text/plain": [
       "dict_values([9000, 'santosh', 25, 'banglore'])"
      ]
     },
     "execution_count": 109,
     "metadata": {},
     "output_type": "execute_result"
    }
   ],
   "source": [
    "x.values()"
   ]
  },
  {
   "cell_type": "code",
   "execution_count": 110,
   "id": "0bbfbba7-334e-4cce-b143-a0f517e488cf",
   "metadata": {},
   "outputs": [
    {
     "data": {
      "text/plain": [
       "dict_items([('number', 9000), ('name', 'santosh'), ('age', 25), ('city', 'banglore')])"
      ]
     },
     "execution_count": 110,
     "metadata": {},
     "output_type": "execute_result"
    }
   ],
   "source": [
    "x.items()"
   ]
  },
  {
   "cell_type": "markdown",
   "id": "44dc6796-48dc-4bd1-b8f2-bf11c7a71956",
   "metadata": {},
   "source": [
    "# Data Structure - Python Sets \n",
    "\n",
    "- unique elements\n",
    "- indexing not supported "
   ]
  },
  {
   "cell_type": "code",
   "execution_count": 111,
   "id": "e5c24f69-3d49-4bfe-8bcf-e553c5666d33",
   "metadata": {},
   "outputs": [
    {
     "name": "stdout",
     "output_type": "stream",
     "text": [
      "{100, 20, 'hi', 'welcome', 10, 'hello', 30}\n"
     ]
    }
   ],
   "source": [
    "my_set = {10,20,30, \"hello\", \"welcome\", 100, \"hi\"}\n",
    "print (my_set)"
   ]
  },
  {
   "cell_type": "code",
   "execution_count": 113,
   "id": "fd2a66d0-aec4-4887-afd9-1bfc78369764",
   "metadata": {},
   "outputs": [
    {
     "name": "stdout",
     "output_type": "stream",
     "text": [
      "{100, 20, 'hi', 'welcome', 10, 'hello', 30}\n"
     ]
    }
   ],
   "source": [
    "my_set = {10,20,30, \"hello\", \"welcome\", 100, 100,100, \"hi\"}\n",
    "print (my_set)"
   ]
  },
  {
   "cell_type": "markdown",
   "id": "5519d46c-c135-4d3c-9bfe-8ebae914eaa3",
   "metadata": {},
   "source": [
    "# Casting\n",
    "\n",
    "- converstion one data type into another\n",
    "- - implicit casting\n",
    "  - explicit casting"
   ]
  },
  {
   "cell_type": "code",
   "execution_count": 114,
   "id": "1e7908bc-5df3-4dd2-9871-246c21207733",
   "metadata": {},
   "outputs": [
    {
     "data": {
      "text/plain": [
       "3.0"
      ]
     },
     "execution_count": 114,
     "metadata": {},
     "output_type": "execute_result"
    }
   ],
   "source": [
    "2 * 1.5"
   ]
  },
  {
   "cell_type": "code",
   "execution_count": 116,
   "id": "09abf95a-2d74-4690-92d9-1b7372c7d404",
   "metadata": {},
   "outputs": [
    {
     "data": {
      "text/plain": [
       "'123'"
      ]
     },
     "execution_count": 116,
     "metadata": {},
     "output_type": "execute_result"
    }
   ],
   "source": [
    "num = 123\n",
    "string_num = str(num)\n",
    "string_num"
   ]
  },
  {
   "cell_type": "markdown",
   "id": "9cfc657c-1892-445c-be46-234eba00cb21",
   "metadata": {},
   "source": [
    "# Reading Input from User"
   ]
  },
  {
   "cell_type": "code",
   "execution_count": 117,
   "id": "e981d657-044d-4df9-abd6-0d3160ad19fc",
   "metadata": {},
   "outputs": [
    {
     "name": "stdin",
     "output_type": "stream",
     "text": [
      "Enter the value to store :  100\n"
     ]
    },
    {
     "name": "stdout",
     "output_type": "stream",
     "text": [
      "Output is  100\n"
     ]
    }
   ],
   "source": [
    "user_input = input (\"Enter the value to store : \")\n",
    "print (\"Output is \", user_input)"
   ]
  },
  {
   "cell_type": "code",
   "execution_count": 118,
   "id": "20087b30-70b5-4658-9b71-9943fbd456df",
   "metadata": {},
   "outputs": [
    {
     "data": {
      "text/plain": [
       "str"
      ]
     },
     "execution_count": 118,
     "metadata": {},
     "output_type": "execute_result"
    }
   ],
   "source": [
    "type (user_input)"
   ]
  },
  {
   "cell_type": "markdown",
   "id": "c9174c45-b8e0-4725-b65a-3a1b2d07af0c",
   "metadata": {},
   "source": [
    "# String Formatting"
   ]
  },
  {
   "cell_type": "code",
   "execution_count": 120,
   "id": "c910e4a7-d316-42bd-8336-24ab52485814",
   "metadata": {},
   "outputs": [
    {
     "name": "stdout",
     "output_type": "stream",
     "text": [
      "the first number is 10  the second numner is 20  sum is  30\n"
     ]
    }
   ],
   "source": [
    "x = 10\n",
    "y = 20 \n",
    "s = x+y\n",
    "\n",
    "print (\"the first number is\", x, \" the second numner is\" , y , \" sum is \" , s  )"
   ]
  },
  {
   "cell_type": "code",
   "execution_count": 125,
   "id": "19d4e034-f576-4b5c-bb9d-505cc6c7b46c",
   "metadata": {},
   "outputs": [
    {
     "name": "stdout",
     "output_type": "stream",
     "text": [
      "the first number is 10, the second number is 20, and the sum is 30\n"
     ]
    }
   ],
   "source": [
    "# str.format()\n",
    "\n",
    "message = \"the first number is {}, the second number is {}, and the sum is {}\".format(x,y,s)\n",
    "print (message)"
   ]
  },
  {
   "cell_type": "code",
   "execution_count": 127,
   "id": "a775bdae-4848-4602-985d-511c87fea452",
   "metadata": {},
   "outputs": [
    {
     "name": "stdout",
     "output_type": "stream",
     "text": [
      "the first number is 10, the second number is 20, and the sum is 30\n"
     ]
    }
   ],
   "source": [
    "# F-strings\n",
    "message = f\"the first number is {x}, the second number is {y}, and the sum is {s}\"\n",
    "print (message)"
   ]
  },
  {
   "cell_type": "markdown",
   "id": "4d88aa99-8d38-4936-a7f0-bdc94f34a8bd",
   "metadata": {},
   "source": [
    "## Conditional Statements \n",
    "\n",
    "if elif and else "
   ]
  },
  {
   "cell_type": "code",
   "execution_count": 128,
   "id": "a8cdd29b-b751-4fed-bff5-95a289883524",
   "metadata": {},
   "outputs": [
    {
     "name": "stdout",
     "output_type": "stream",
     "text": [
      "x is positive\n"
     ]
    }
   ],
   "source": [
    "x = 10 \n",
    "if x>0:\n",
    "    print (\"x is positive\")"
   ]
  },
  {
   "cell_type": "code",
   "execution_count": 130,
   "id": "39a6f5d2-cf99-4698-a055-04ad14674912",
   "metadata": {},
   "outputs": [],
   "source": [
    "x = -10 \n",
    "if x>0:\n",
    "    print (\"x is positive\")"
   ]
  },
  {
   "cell_type": "code",
   "execution_count": 131,
   "id": "e3b07485-3515-4388-8753-cd908dda1ef1",
   "metadata": {},
   "outputs": [
    {
     "name": "stdout",
     "output_type": "stream",
     "text": [
      "x is less than or equal to 0\n"
     ]
    }
   ],
   "source": [
    "x = -10 \n",
    "if x>0:\n",
    "    print (\"x is positive\")\n",
    "else:\n",
    "    print(\"x is less than or equal to 0\")"
   ]
  },
  {
   "cell_type": "code",
   "execution_count": 132,
   "id": "9c4b0dea-55de-461d-a7bb-bf403380316e",
   "metadata": {},
   "outputs": [
    {
     "name": "stdout",
     "output_type": "stream",
     "text": [
      "x is zero\n"
     ]
    }
   ],
   "source": [
    "# if..elif...else\n",
    "x = 0\n",
    "if x>0:\n",
    "    print (\"x is positive\")\n",
    "elif x == 0:\n",
    "    print (\"x is zero\")\n",
    "else:\n",
    "    print(\"x is negative\")\n"
   ]
  },
  {
   "cell_type": "markdown",
   "id": "5ea78554-e1b2-4539-839c-4fa8daca414e",
   "metadata": {},
   "source": [
    "# Control Statements : Loops\n",
    "- for\n",
    "- while"
   ]
  },
  {
   "cell_type": "code",
   "execution_count": 139,
   "id": "61ba5892-1d0b-4755-b00f-71408acb675c",
   "metadata": {},
   "outputs": [
    {
     "name": "stdout",
     "output_type": "stream",
     "text": [
      "Print apple\n",
      "Print banana\n",
      "Print cherry\n"
     ]
    }
   ],
   "source": [
    "fruits = [\"apple\", \"banana\", \"cherry\"]\n",
    "\n",
    "for i in fruits: \n",
    "    print (f\"Print {i}\")"
   ]
  },
  {
   "cell_type": "code",
   "execution_count": 140,
   "id": "2f49fb50-10dc-4926-8e6c-2faf0a1cbcdc",
   "metadata": {},
   "outputs": [
    {
     "name": "stdout",
     "output_type": "stream",
     "text": [
      "0\n",
      "1\n",
      "2\n"
     ]
    }
   ],
   "source": [
    "count = 0 \n",
    "\n",
    "while count <3:\n",
    "    print (count)\n",
    "    count +=1"
   ]
  },
  {
   "cell_type": "markdown",
   "id": "51b7859c-b00f-40a6-aa7a-0c9e6f26a00a",
   "metadata": {},
   "source": [
    "# Loop Control Stements: Break"
   ]
  },
  {
   "cell_type": "code",
   "execution_count": 141,
   "id": "50d02a4c-e063-4d0f-b84b-ca9473b9b113",
   "metadata": {},
   "outputs": [
    {
     "name": "stdout",
     "output_type": "stream",
     "text": [
      "Print apple\n",
      "Print banana\n"
     ]
    }
   ],
   "source": [
    "fruits = [\"apple\", \"banana\", \"cherry\"]\n",
    "\n",
    "for i in fruits: \n",
    "    print (f\"Print {i}\")\n",
    "    if i == 'banana':\n",
    "        break"
   ]
  },
  {
   "cell_type": "markdown",
   "id": "6bbce09e-11fb-47a7-b290-10b1aa83e29c",
   "metadata": {},
   "source": [
    "# Loop Control Stements: Continue"
   ]
  },
  {
   "cell_type": "code",
   "execution_count": 143,
   "id": "d70b4d4c-3101-4d06-a279-f92a6215cb25",
   "metadata": {},
   "outputs": [
    {
     "name": "stdout",
     "output_type": "stream",
     "text": [
      "Print someting\n",
      "Print apple\n",
      "Print someting\n",
      "Print someting\n",
      "Print cherry\n"
     ]
    }
   ],
   "source": [
    "fruits = [\"apple\", \"banana\", \"cherry\"]\n",
    "\n",
    "for i in fruits: \n",
    "    print (\"Print someting\")\n",
    "    if i == 'banana':\n",
    "        continue\n",
    "    print (f\"Print {i}\")"
   ]
  }
 ],
 "metadata": {
  "kernelspec": {
   "display_name": "Python 3 (ipykernel)",
   "language": "python",
   "name": "python3"
  },
  "language_info": {
   "codemirror_mode": {
    "name": "ipython",
    "version": 3
   },
   "file_extension": ".py",
   "mimetype": "text/x-python",
   "name": "python",
   "nbconvert_exporter": "python",
   "pygments_lexer": "ipython3",
   "version": "3.10.12"
  }
 },
 "nbformat": 4,
 "nbformat_minor": 5
}
